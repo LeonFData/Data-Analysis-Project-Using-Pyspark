{
  "nbformat": 4,
  "nbformat_minor": 0,
  "metadata": {
    "kernelspec": {
      "display_name": "Python 3",
      "language": "python",
      "name": "python3"
    },
    "language_info": {
      "codemirror_mode": {
        "name": "ipython",
        "version": 3
      },
      "file_extension": ".py",
      "mimetype": "text/x-python",
      "name": "python",
      "nbconvert_exporter": "python",
      "pygments_lexer": "ipython3",
      "version": "3.6.4"
    },
    "colab": {
      "name": "Pyspark Linear Regression.ipynb",
      "provenance": []
    }
  },
  "cells": [
    {
      "cell_type": "code",
      "metadata": {
        "id": "ogX32HVWsEzB",
        "colab_type": "code",
        "colab": {
          "base_uri": "https://localhost:8080/",
          "height": 128
        },
        "outputId": "abeb9ad1-e854-4313-8338-192d6ab68b2b"
      },
      "source": [
        "from google.colab import drive\n",
        "drive.mount('/content/drive')"
      ],
      "execution_count": 1,
      "outputs": [
        {
          "output_type": "stream",
          "text": [
            "Go to this URL in a browser: https://accounts.google.com/o/oauth2/auth?client_id=947318989803-6bn6qk8qdgf4n4g3pfee6491hc0brc4i.apps.googleusercontent.com&redirect_uri=urn%3aietf%3awg%3aoauth%3a2.0%3aoob&scope=email%20https%3a%2f%2fwww.googleapis.com%2fauth%2fdocs.test%20https%3a%2f%2fwww.googleapis.com%2fauth%2fdrive%20https%3a%2f%2fwww.googleapis.com%2fauth%2fdrive.photos.readonly%20https%3a%2f%2fwww.googleapis.com%2fauth%2fpeopleapi.readonly&response_type=code\n",
            "\n",
            "Enter your authorization code:\n",
            "··········\n",
            "Mounted at /content/drive\n"
          ],
          "name": "stdout"
        }
      ]
    },
    {
      "cell_type": "code",
      "metadata": {
        "id": "Sjtrr9N-sQHP",
        "colab_type": "code",
        "colab": {
          "base_uri": "https://localhost:8080/",
          "height": 254
        },
        "outputId": "dd27280d-9664-41bf-f488-1c82cc50dbeb"
      },
      "source": [
        "!pip install pyspark"
      ],
      "execution_count": 2,
      "outputs": [
        {
          "output_type": "stream",
          "text": [
            "Collecting pyspark\n",
            "\u001b[?25l  Downloading https://files.pythonhosted.org/packages/8e/b0/bf9020b56492281b9c9d8aae8f44ff51e1bc91b3ef5a884385cb4e389a40/pyspark-3.0.0.tar.gz (204.7MB)\n",
            "\u001b[K     |████████████████████████████████| 204.7MB 56kB/s \n",
            "\u001b[?25hCollecting py4j==0.10.9\n",
            "\u001b[?25l  Downloading https://files.pythonhosted.org/packages/9e/b6/6a4fb90cd235dc8e265a6a2067f2a2c99f0d91787f06aca4bcf7c23f3f80/py4j-0.10.9-py2.py3-none-any.whl (198kB)\n",
            "\u001b[K     |████████████████████████████████| 204kB 41.0MB/s \n",
            "\u001b[?25hBuilding wheels for collected packages: pyspark\n",
            "  Building wheel for pyspark (setup.py) ... \u001b[?25l\u001b[?25hdone\n",
            "  Created wheel for pyspark: filename=pyspark-3.0.0-py2.py3-none-any.whl size=205044182 sha256=2418661a6f880266aacb97f937224c4a8a5aca60513e83dfdef9589cbf423a3d\n",
            "  Stored in directory: /root/.cache/pip/wheels/57/27/4d/ddacf7143f8d5b76c45c61ee2e43d9f8492fc5a8e78ebd7d37\n",
            "Successfully built pyspark\n",
            "Installing collected packages: py4j, pyspark\n",
            "Successfully installed py4j-0.10.9 pyspark-3.0.0\n"
          ],
          "name": "stdout"
        }
      ]
    },
    {
      "cell_type": "code",
      "metadata": {
        "id": "UpAXylDAsDuw",
        "colab_type": "code",
        "colab": {}
      },
      "source": [
        "from pyspark.sql import SparkSession\n",
        "spark= SparkSession.builder.appName('Customers').getOrCreate()\n",
        "\n",
        "from pyspark.ml.regression import LinearRegression"
      ],
      "execution_count": 4,
      "outputs": []
    },
    {
      "cell_type": "code",
      "metadata": {
        "id": "DfALiHRKsDu2",
        "colab_type": "code",
        "colab": {}
      },
      "source": [
        "df = spark.read.csv(\"/content/drive/My Drive/2020/Pyspark/Ecommerce_Customers.csv\", inferSchema=True, header=True)"
      ],
      "execution_count": 6,
      "outputs": []
    },
    {
      "cell_type": "code",
      "metadata": {
        "id": "ZuFyEy1osDu4",
        "colab_type": "code",
        "colab": {
          "base_uri": "https://localhost:8080/",
          "height": 35
        },
        "outputId": "61b20197-62ce-4505-be97-4f61c1f63c39"
      },
      "source": [
        "df"
      ],
      "execution_count": 7,
      "outputs": [
        {
          "output_type": "execute_result",
          "data": {
            "text/plain": [
              "DataFrame[Email: string, Address: string, Avg Session Length: double, Time on App: double, Time on Website: double, Length of Membership: double, Yearly Amount Spent: double]"
            ]
          },
          "metadata": {
            "tags": []
          },
          "execution_count": 7
        }
      ]
    },
    {
      "cell_type": "code",
      "metadata": {
        "id": "sG5--_HKsDu7",
        "colab_type": "code",
        "colab": {
          "base_uri": "https://localhost:8080/",
          "height": 217
        },
        "outputId": "a14be403-93ce-4459-964e-f6ae57892c47"
      },
      "source": [
        "df.show(5)"
      ],
      "execution_count": 9,
      "outputs": [
        {
          "output_type": "stream",
          "text": [
            "+--------------------+--------------------+------------------+-----------+---------------+--------------------+-------------------+\n",
            "|               Email|             Address|Avg Session Length|Time on App|Time on Website|Length of Membership|Yearly Amount Spent|\n",
            "+--------------------+--------------------+------------------+-----------+---------------+--------------------+-------------------+\n",
            "|mstephenson@ferna...|835 Frank TunnelW...|       34.49726773|12.65565115|    39.57766802|         4.082620633|         587.951054|\n",
            "|   hduke@hotmail.com|4547 Archer Commo...|       31.92627203|11.10946073|    37.26895887|         2.664034182|        392.2049334|\n",
            "|    pallen@yahoo.com|24645 Valerie Uni...|       33.00091476|11.33027806|    37.11059744|         4.104543202|        487.5475049|\n",
            "|riverarebecca@gma...|1414 David Throug...|       34.30555663|13.71751367|    36.72128268|         3.120178783|         581.852344|\n",
            "|mstephens@davidso...|14023 Rodriguez P...|       33.33067252|12.79518855|     37.5366533|         4.446308318|         599.406092|\n",
            "+--------------------+--------------------+------------------+-----------+---------------+--------------------+-------------------+\n",
            "only showing top 5 rows\n",
            "\n"
          ],
          "name": "stdout"
        }
      ]
    },
    {
      "cell_type": "code",
      "metadata": {
        "id": "FrlhAnTYsDu-",
        "colab_type": "code",
        "colab": {
          "base_uri": "https://localhost:8080/",
          "height": 181
        },
        "outputId": "bd84fca6-5aa7-4a78-b408-ce7a626a2938"
      },
      "source": [
        "df.printSchema()"
      ],
      "execution_count": 12,
      "outputs": [
        {
          "output_type": "stream",
          "text": [
            "root\n",
            " |-- Email: string (nullable = true)\n",
            " |-- Address: string (nullable = true)\n",
            " |-- Avg Session Length: double (nullable = true)\n",
            " |-- Time on App: double (nullable = true)\n",
            " |-- Time on Website: double (nullable = true)\n",
            " |-- Length of Membership: double (nullable = true)\n",
            " |-- Yearly Amount Spent: double (nullable = true)\n",
            "\n"
          ],
          "name": "stdout"
        }
      ]
    },
    {
      "cell_type": "markdown",
      "metadata": {
        "id": "v00Se6cft_lj",
        "colab_type": "text"
      },
      "source": [
        "* In sklearn\n",
        "1. X1,X2,X3,X4,X5    Y1 ---->model-->prediction\n",
        "\n",
        "* In Pyspark\n",
        "2. [X1,X2,X3,X4,X5]  Y1---->model--->prediction"
      ]
    },
    {
      "cell_type": "code",
      "metadata": {
        "id": "aa_u1JbPsDvE",
        "colab_type": "code",
        "colab": {}
      },
      "source": [
        "from pyspark.ml.linalg import Vectors\n",
        "from pyspark.ml.feature import VectorAssembler"
      ],
      "execution_count": 14,
      "outputs": []
    },
    {
      "cell_type": "code",
      "metadata": {
        "id": "RhieQC1vsDvG",
        "colab_type": "code",
        "colab": {}
      },
      "source": [
        "features = VectorAssembler(inputCols=[\"Avg Session Length\",\"Time on App\",\"Time on Website\",\"Length of Membership\"], outputCol=\"Independent Features\")"
      ],
      "execution_count": 15,
      "outputs": []
    },
    {
      "cell_type": "code",
      "metadata": {
        "id": "yJKne9G6sDvI",
        "colab_type": "code",
        "colab": {}
      },
      "source": [
        "output = features.transform(df)"
      ],
      "execution_count": 17,
      "outputs": []
    },
    {
      "cell_type": "code",
      "metadata": {
        "id": "mzQV8UqTutpm",
        "colab_type": "code",
        "colab": {
          "base_uri": "https://localhost:8080/",
          "height": 217
        },
        "outputId": "691e1f05-a842-4c8b-9da8-5ae10a743f4a"
      },
      "source": [
        "output.show(5)"
      ],
      "execution_count": 22,
      "outputs": [
        {
          "output_type": "stream",
          "text": [
            "+--------------------+--------------------+------------------+-----------+---------------+--------------------+-------------------+--------------------+\n",
            "|               Email|             Address|Avg Session Length|Time on App|Time on Website|Length of Membership|Yearly Amount Spent|Independent Features|\n",
            "+--------------------+--------------------+------------------+-----------+---------------+--------------------+-------------------+--------------------+\n",
            "|mstephenson@ferna...|835 Frank TunnelW...|       34.49726773|12.65565115|    39.57766802|         4.082620633|         587.951054|[34.49726773,12.6...|\n",
            "|   hduke@hotmail.com|4547 Archer Commo...|       31.92627203|11.10946073|    37.26895887|         2.664034182|        392.2049334|[31.92627203,11.1...|\n",
            "|    pallen@yahoo.com|24645 Valerie Uni...|       33.00091476|11.33027806|    37.11059744|         4.104543202|        487.5475049|[33.00091476,11.3...|\n",
            "|riverarebecca@gma...|1414 David Throug...|       34.30555663|13.71751367|    36.72128268|         3.120178783|         581.852344|[34.30555663,13.7...|\n",
            "|mstephens@davidso...|14023 Rodriguez P...|       33.33067252|12.79518855|     37.5366533|         4.446308318|         599.406092|[33.33067252,12.7...|\n",
            "+--------------------+--------------------+------------------+-----------+---------------+--------------------+-------------------+--------------------+\n",
            "only showing top 5 rows\n",
            "\n"
          ],
          "name": "stdout"
        }
      ]
    },
    {
      "cell_type": "code",
      "metadata": {
        "id": "LCOIpDIWsDvM",
        "colab_type": "code",
        "colab": {
          "base_uri": "https://localhost:8080/",
          "height": 217
        },
        "outputId": "9bc0b957-65c0-4062-9dd5-88032a0d6b20"
      },
      "source": [
        "output.select(\"Independent Features\").show(5)"
      ],
      "execution_count": 23,
      "outputs": [
        {
          "output_type": "stream",
          "text": [
            "+--------------------+\n",
            "|Independent Features|\n",
            "+--------------------+\n",
            "|[34.49726773,12.6...|\n",
            "|[31.92627203,11.1...|\n",
            "|[33.00091476,11.3...|\n",
            "|[34.30555663,13.7...|\n",
            "|[33.33067252,12.7...|\n",
            "+--------------------+\n",
            "only showing top 5 rows\n",
            "\n"
          ],
          "name": "stdout"
        }
      ]
    },
    {
      "cell_type": "code",
      "metadata": {
        "id": "i9S-7aBxsDvQ",
        "colab_type": "code",
        "colab": {
          "base_uri": "https://localhost:8080/",
          "height": 163
        },
        "outputId": "60f8b8db-eaa3-4ac7-d70f-06d9674bcc8b"
      },
      "source": [
        "output.columns"
      ],
      "execution_count": 24,
      "outputs": [
        {
          "output_type": "execute_result",
          "data": {
            "text/plain": [
              "['Email',\n",
              " 'Address',\n",
              " 'Avg Session Length',\n",
              " 'Time on App',\n",
              " 'Time on Website',\n",
              " 'Length of Membership',\n",
              " 'Yearly Amount Spent',\n",
              " 'Independent Features']"
            ]
          },
          "metadata": {
            "tags": []
          },
          "execution_count": 24
        }
      ]
    },
    {
      "cell_type": "code",
      "metadata": {
        "id": "vs3ArEdxsDvS",
        "colab_type": "code",
        "colab": {}
      },
      "source": [
        "finalized_data = output.select(\"Independent Features\",\"Yearly Amount Spent\")"
      ],
      "execution_count": 25,
      "outputs": []
    },
    {
      "cell_type": "code",
      "metadata": {
        "id": "vIsSA9NMsDvU",
        "colab_type": "code",
        "colab": {
          "base_uri": "https://localhost:8080/",
          "height": 217
        },
        "outputId": "77a2340d-7232-4ea3-9e4c-6ed5b1245fc9"
      },
      "source": [
        "finalized_data.show(5)"
      ],
      "execution_count": 26,
      "outputs": [
        {
          "output_type": "stream",
          "text": [
            "+--------------------+-------------------+\n",
            "|Independent Features|Yearly Amount Spent|\n",
            "+--------------------+-------------------+\n",
            "|[34.49726773,12.6...|         587.951054|\n",
            "|[31.92627203,11.1...|        392.2049334|\n",
            "|[33.00091476,11.3...|        487.5475049|\n",
            "|[34.30555663,13.7...|         581.852344|\n",
            "|[33.33067252,12.7...|         599.406092|\n",
            "+--------------------+-------------------+\n",
            "only showing top 5 rows\n",
            "\n"
          ],
          "name": "stdout"
        }
      ]
    },
    {
      "cell_type": "code",
      "metadata": {
        "id": "yfhxt4PvsDvW",
        "colab_type": "code",
        "colab": {}
      },
      "source": [
        "train, test = finalized_data.randomSplit([0.75,0.25])"
      ],
      "execution_count": 36,
      "outputs": []
    },
    {
      "cell_type": "code",
      "metadata": {
        "id": "lJdZobSssDvY",
        "colab_type": "code",
        "colab": {}
      },
      "source": [
        "lr_clf = LinearRegression(featuresCol='Independent Features', labelCol='Yearly Amount Spent')\n",
        "lr = lr_clf.fit(train)"
      ],
      "execution_count": 37,
      "outputs": []
    },
    {
      "cell_type": "code",
      "metadata": {
        "id": "iCD6S5CksDvZ",
        "colab_type": "code",
        "colab": {
          "base_uri": "https://localhost:8080/",
          "height": 35
        },
        "outputId": "e43bf4f6-90a2-45c9-f46b-b34811defb59"
      },
      "source": [
        "lr.coefficients"
      ],
      "execution_count": 38,
      "outputs": [
        {
          "output_type": "execute_result",
          "data": {
            "text/plain": [
              "DenseVector([26.2318, 38.6105, 0.4531, 61.2711])"
            ]
          },
          "metadata": {
            "tags": []
          },
          "execution_count": 38
        }
      ]
    },
    {
      "cell_type": "code",
      "metadata": {
        "id": "mq5LA4TEsDvc",
        "colab_type": "code",
        "colab": {
          "base_uri": "https://localhost:8080/",
          "height": 35
        },
        "outputId": "0b3c45ea-667d-4641-c545-ed943dcae36f"
      },
      "source": [
        "lr.intercept"
      ],
      "execution_count": 39,
      "outputs": [
        {
          "output_type": "execute_result",
          "data": {
            "text/plain": [
              "-1066.2377058319769"
            ]
          },
          "metadata": {
            "tags": []
          },
          "execution_count": 39
        }
      ]
    },
    {
      "cell_type": "code",
      "metadata": {
        "id": "nXImnaUysDvf",
        "colab_type": "code",
        "colab": {}
      },
      "source": [
        "pred = lr.evaluate(test)"
      ],
      "execution_count": 40,
      "outputs": []
    },
    {
      "cell_type": "code",
      "metadata": {
        "id": "Cek2JEzUsDvh",
        "colab_type": "code",
        "colab": {
          "base_uri": "https://localhost:8080/",
          "height": 490
        },
        "outputId": "fbb24ca4-6224-41e4-88bb-448b63b71c84"
      },
      "source": [
        "pred.predictions.show()"
      ],
      "execution_count": 41,
      "outputs": [
        {
          "output_type": "stream",
          "text": [
            "+--------------------+-------------------+------------------+\n",
            "|Independent Features|Yearly Amount Spent|        prediction|\n",
            "+--------------------+-------------------+------------------+\n",
            "|[29.53242897,10.9...|        408.6403511|396.55620951024275|\n",
            "|[30.57436368,11.3...|        442.0644138|440.74004560385447|\n",
            "|[30.83643267,13.1...|        467.5019004|470.69894584250255|\n",
            "|[31.06132516,12.3...|        487.5554581| 492.6361760855491|\n",
            "|[31.30919264,11.9...|        432.7207178| 429.1497926971358|\n",
            "|[31.36621217,11.1...|        430.5888826| 426.1976394959745|\n",
            "|[31.38958548,10.9...|        410.0696111| 409.0017597309027|\n",
            "|[31.52575242,11.3...|        443.9656268|448.88611069532794|\n",
            "|[31.6005122,12.22...|        479.1728515| 460.5306342747979|\n",
            "|[31.72165236,11.7...|        347.7769266|349.59485663539135|\n",
            "|[31.80930032,11.6...|        536.7718994| 547.0910677966149|\n",
            "|[31.8530748,12.14...|        459.2851235| 461.3136190907121|\n",
            "|[31.86274111,14.0...|        556.2981412| 557.4858442931425|\n",
            "|[31.87455169,10.2...|        392.2852442| 397.8409037621343|\n",
            "|[31.8854063,11.28...|         390.103273| 399.0050836688879|\n",
            "|[31.92627203,11.1...|        392.2049334|380.30275361274266|\n",
            "|[31.95490386,10.9...|        439.9978799|431.46892435071527|\n",
            "|[31.96732095,11.4...|        445.7498412| 449.8538697890069|\n",
            "|[32.04448613,13.4...|        448.2298292|447.05922055455835|\n",
            "|[32.04780098,12.7...|        513.4505712| 507.7713901922318|\n",
            "+--------------------+-------------------+------------------+\n",
            "only showing top 20 rows\n",
            "\n"
          ],
          "name": "stdout"
        }
      ]
    },
    {
      "cell_type": "code",
      "metadata": {
        "id": "-GFqbW3UsDvj",
        "colab_type": "code",
        "colab": {}
      },
      "source": [
        ""
      ],
      "execution_count": null,
      "outputs": []
    }
  ]
}